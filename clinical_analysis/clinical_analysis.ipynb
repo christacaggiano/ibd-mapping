{
 "cells": [
  {
   "cell_type": "code",
   "execution_count": 125,
   "id": "3684a3af",
   "metadata": {
    "tags": []
   },
   "outputs": [],
   "source": [
    "import pandas as pd \n",
    "import seaborn as sns \n",
    "import matplotlib.pyplot as plt\n",
    "import numpy as np\n",
    "import random \n",
    "import pickle as pkl \n",
    "import pandas as pd \n",
    "import seaborn as sns \n",
    "import matplotlib.pyplot as plt \n",
    "import numpy as np\n",
    "import glob\n",
    "from statsmodels.stats.multitest import multipletests\n",
    "import pyensembl\n",
    "from itertools import groupby\n",
    "from operator import itemgetter\n",
    "import statistics\n",
    "import ast \n",
    "import re \n",
    "import warnings\n",
    "from collections import Counter\n",
    "warnings.filterwarnings(\"ignore\")"
   ]
  },
  {
   "cell_type": "markdown",
   "id": "8a6bb3b9",
   "metadata": {},
   "source": [
    "# real data score "
   ]
  },
  {
   "cell_type": "code",
   "execution_count": 2,
   "id": "d79bb05b",
   "metadata": {
    "tags": []
   },
   "outputs": [],
   "source": [
    "def max_pval_count(df): \n",
    "    max_pvalues = df.groupby(\"phecode\")[\"logP\"].max().reset_index()\n",
    "    max_pvalues = max_pvalues.rename(columns={\"logP\": \"max_p_value\"})\n",
    "\n",
    "    df_with_max = df.merge(max_pvalues, on='phecode')\n",
    "    filtered_df = df_with_max[df_with_max[\"logP\"] == df_with_max[\"max_p_value\"]]\n",
    "\n",
    "    clique_counts = filtered_df.groupby(\"phecode\")[\"name\"].count().reset_index()\n",
    "    clique_counts = clique_counts.rename(columns={\"name\": \"max_pvalue_clique_count\"})\n",
    "    df = df.merge(clique_counts, on=\"phecode\")\n",
    "    \n",
    "    return df "
   ]
  },
  {
   "cell_type": "code",
   "execution_count": 3,
   "id": "f2a124c0",
   "metadata": {
    "tags": []
   },
   "outputs": [],
   "source": [
    "def run_score(df):\n",
    "    weights = {\n",
    "        \"logP\": 1.5,            \n",
    "        \"clique\": 2.0,          \n",
    "        \"biome_penalty\": 1.5,  \n",
    "        \"max_pval_penalty\": 0.5 \n",
    "    }\n",
    "    \n",
    "    logP_norm = (df[\"logP\"] - df[\"logP\"].min()) / (df[\"logP\"].max() - df[\"logP\"].min())\n",
    "    \n",
    "    clique_score = df[\"proportion of clique as case\"]\n",
    "    \n",
    "    biome_penalty = 1 / (1 + df[\"Biome count\"])  \n",
    "    biome_norm = (biome_penalty - biome_penalty.min()) / (biome_penalty.max() - biome_penalty.min())\n",
    "    \n",
    "    max_pval_penalty = np.log1p(df[\"max_pvalue_clique_count\"])  \n",
    "    max_pval_norm = 1 - ((max_pval_penalty - max_pval_penalty.min()) / \n",
    "                         (max_pval_penalty.max() - max_pval_penalty.min())) \n",
    "    \n",
    "    df[\"score\"] = (weights[\"logP\"] * logP_norm +\n",
    "                  weights[\"clique\"] * clique_score +\n",
    "                  weights[\"biome_penalty\"] * biome_norm +\n",
    "                  weights[\"max_pval_penalty\"] * max_pval_norm)\n",
    "    \n",
    "    df[\"score\"] = (df[\"score\"] - df[\"score\"].min()) / (df[\"score\"].max() - df[\"score\"].min())\n",
    "    \n",
    "    return df"
   ]
  },
  {
   "cell_type": "code",
   "execution_count": 4,
   "id": "db5f255d",
   "metadata": {
    "tags": []
   },
   "outputs": [],
   "source": [
    "# def run_score(df, k=2): \n",
    "\n",
    "#     logP_norm = df[\"logP\"] / df[\"logP\"].max()  \n",
    "    \n",
    "#     biome_score = np.log(1 + df[\"Biome count\"].max() - df[\"Biome count\"])\n",
    "#     biome_score = biome_score / biome_score.max()  # normalize to [0,1]\n",
    "\n",
    "    \n",
    "#     df[\"score\"] = logP_norm + biome_score + df[\"proportion of clique as case\"] \n",
    "    \n",
    "#     return df"
   ]
  },
  {
   "cell_type": "code",
   "execution_count": 5,
   "id": "cc9affca",
   "metadata": {
    "tags": []
   },
   "outputs": [],
   "source": [
    "# biome_score = np.log(1 + df[\"Biome count\"].max() - df[\"Biome count\"])\n",
    "# biome_score = biome_score / biome_score.max()  # normalize to [0,1]"
   ]
  },
  {
   "cell_type": "markdown",
   "id": "d97ab5f4",
   "metadata": {},
   "source": [
    "# run score"
   ]
  },
  {
   "cell_type": "markdown",
   "id": "de9dcd71",
   "metadata": {},
   "source": [
    "### input data for one pop"
   ]
  },
  {
   "cell_type": "code",
   "execution_count": 154,
   "id": "6f5986ba",
   "metadata": {
    "tags": []
   },
   "outputs": [],
   "source": [
    "icd = pd.read_csv(\"../all_phenotypes_binary/significant_results/aj/aj_fdr10_significant_icd.csv\")\n",
    "icd = icd.rename(columns={\"dx_name\":\"phecode_string\"})\n",
    "icd[\"type\"] = \"ICD\"\n",
    "\n",
    "phecode = pd.read_csv(\"../all_phenotypes_binary/significant_results/aj/aj_fdr10_significant_phecodes.csv\")\n",
    "phecode[\"type\"] = \"phecode\"\n",
    "\n",
    "# phers = pd.read_csv(\"../all_phenotypes_binary/significant_results/aj/aj_fdr10_phers_binary_recessive_name.csv\")\n",
    "# phers = phers.rename(columns={\"disease_name\":\"phecode_string\"})\n",
    "# phers[\"type\"] = \"phers\"\n",
    "\n",
    "merged_clusters = pd.read_csv(\"merged_aj_clusters.csv\")\n",
    "merged_clusters = merged_clusters.groupby([\"group_id\", \"hom_samples\"])[\"cluster_id\"].unique().reset_index()\n",
    "merged_clusters.columns = [\"merged_cluster_id\", \"samples\", \"clusters_to_merge\"]\n",
    "\n",
    "output = \"aj_test.csv\"\n",
    "pop=\"puerto rican\"\n"
   ]
  },
  {
   "cell_type": "code",
   "execution_count": 155,
   "id": "036d14c5",
   "metadata": {
    "tags": []
   },
   "outputs": [],
   "source": [
    "df = pd.concat([icd, phecode])\n",
    "df = max_pval_count(df)\n",
    "df = run_score(df)"
   ]
  },
  {
   "cell_type": "code",
   "execution_count": 156,
   "id": "2420b84c",
   "metadata": {
    "tags": []
   },
   "outputs": [
    {
     "data": {
      "image/png": "[encoded data removed]",
      "text/plain": [
       "<Figure size 500x500 with 1 Axes>"
      ]
     },
     "metadata": {},
     "output_type": "display_data"
    }
   ],
   "source": [
    "plt.figure(figsize=(5,5))\n",
    "sns.histplot(x=\"score\", data=df, color=\"#e6dff6\", bins=20)\n",
    "plt.axvline(x=df[\"score\"].quantile(0.9), color=\"grey\", linestyle=\"--\", linewidth=2)\n",
    "sns.despine()\n",
    "plt.title(pop)\n",
    "plt.show()"
   ]
  },
  {
   "cell_type": "code",
   "execution_count": 157,
   "id": "7372b8b3",
   "metadata": {
    "tags": []
   },
   "outputs": [
    {
     "data": {
      "text/html": [
       "<div>\n",
       "<style scoped>\n",
       "    .dataframe tbody tr th:only-of-type {\n",
       "        vertical-align: middle;\n",
       "    }\n",
       "\n",
       "    .dataframe tbody tr th {\n",
       "        vertical-align: top;\n",
       "    }\n",
       "\n",
       "    .dataframe thead th {\n",
       "        text-align: right;\n",
       "    }\n",
       "</style>\n",
       "<table border=\"1\" class=\"dataframe\">\n",
       "  <thead>\n",
       "    <tr style=\"text-align: right;\">\n",
       "      <th></th>\n",
       "      <th>logP</th>\n",
       "      <th>phecode_string</th>\n",
       "      <th>Biome count</th>\n",
       "      <th>score</th>\n",
       "    </tr>\n",
       "  </thead>\n",
       "  <tbody>\n",
       "    <tr>\n",
       "      <th>28482</th>\n",
       "      <td>6.76112</td>\n",
       "      <td>Clostridium</td>\n",
       "      <td>563</td>\n",
       "      <td>1.000000</td>\n",
       "    </tr>\n",
       "    <tr>\n",
       "      <th>28481</th>\n",
       "      <td>6.73909</td>\n",
       "      <td>Intestinal infection due to C. difficile</td>\n",
       "      <td>545</td>\n",
       "      <td>0.997970</td>\n",
       "    </tr>\n",
       "    <tr>\n",
       "      <th>28480</th>\n",
       "      <td>6.73909</td>\n",
       "      <td>Clostridium difficile</td>\n",
       "      <td>545</td>\n",
       "      <td>0.997970</td>\n",
       "    </tr>\n",
       "    <tr>\n",
       "      <th>28476</th>\n",
       "      <td>6.67666</td>\n",
       "      <td>Disorders of phosphorus metabolism</td>\n",
       "      <td>320</td>\n",
       "      <td>0.996336</td>\n",
       "    </tr>\n",
       "    <tr>\n",
       "      <th>28512</th>\n",
       "      <td>6.43110</td>\n",
       "      <td>Overactive bladder</td>\n",
       "      <td>905</td>\n",
       "      <td>0.963894</td>\n",
       "    </tr>\n",
       "    <tr>\n",
       "      <th>28466</th>\n",
       "      <td>6.43122</td>\n",
       "      <td>Gastrointestinal inflammation</td>\n",
       "      <td>7654</td>\n",
       "      <td>0.960320</td>\n",
       "    </tr>\n",
       "    <tr>\n",
       "      <th>28513</th>\n",
       "      <td>6.30747</td>\n",
       "      <td>Squamous cell carcinoma of the skin</td>\n",
       "      <td>431</td>\n",
       "      <td>0.955754</td>\n",
       "    </tr>\n",
       "    <tr>\n",
       "      <th>28636</th>\n",
       "      <td>6.86254</td>\n",
       "      <td>Cryptogenic organizing pneumonia</td>\n",
       "      <td>19</td>\n",
       "      <td>0.935343</td>\n",
       "    </tr>\n",
       "    <tr>\n",
       "      <th>28511</th>\n",
       "      <td>6.00255</td>\n",
       "      <td>Bacterial enteritis</td>\n",
       "      <td>2201</td>\n",
       "      <td>0.917816</td>\n",
       "    </tr>\n",
       "    <tr>\n",
       "      <th>28510</th>\n",
       "      <td>5.97849</td>\n",
       "      <td>Cartilage tear of knee</td>\n",
       "      <td>1120</td>\n",
       "      <td>0.916977</td>\n",
       "    </tr>\n",
       "    <tr>\n",
       "      <th>28531</th>\n",
       "      <td>5.75631</td>\n",
       "      <td>Diffuse goiter</td>\n",
       "      <td>1357</td>\n",
       "      <td>0.893756</td>\n",
       "    </tr>\n",
       "    <tr>\n",
       "      <th>28526</th>\n",
       "      <td>5.96829</td>\n",
       "      <td>Other symptoms/disorders or the urinary system</td>\n",
       "      <td>1517</td>\n",
       "      <td>0.893745</td>\n",
       "    </tr>\n",
       "    <tr>\n",
       "      <th>29032</th>\n",
       "      <td>6.16477</td>\n",
       "      <td>Periodic fever syndromes</td>\n",
       "      <td>24</td>\n",
       "      <td>0.875580</td>\n",
       "    </tr>\n",
       "    <tr>\n",
       "      <th>28495</th>\n",
       "      <td>5.69815</td>\n",
       "      <td>Diverticulitis</td>\n",
       "      <td>1042</td>\n",
       "      <td>0.867314</td>\n",
       "    </tr>\n",
       "    <tr>\n",
       "      <th>28529</th>\n",
       "      <td>5.82196</td>\n",
       "      <td>Tinnitus</td>\n",
       "      <td>1945</td>\n",
       "      <td>0.863159</td>\n",
       "    </tr>\n",
       "    <tr>\n",
       "      <th>21071</th>\n",
       "      <td>5.84588</td>\n",
       "      <td>Adverse effect of penicillin, subsequent encou...</td>\n",
       "      <td>21</td>\n",
       "      <td>0.862987</td>\n",
       "    </tr>\n",
       "    <tr>\n",
       "      <th>28695</th>\n",
       "      <td>6.60277</td>\n",
       "      <td>Pigmentary retinal dystrophy</td>\n",
       "      <td>27</td>\n",
       "      <td>0.856228</td>\n",
       "    </tr>\n",
       "    <tr>\n",
       "      <th>28508</th>\n",
       "      <td>5.58048</td>\n",
       "      <td>Fracture of foot and toe</td>\n",
       "      <td>1001</td>\n",
       "      <td>0.855464</td>\n",
       "    </tr>\n",
       "    <tr>\n",
       "      <th>19671</th>\n",
       "      <td>7.22720</td>\n",
       "      <td>Allergy with anaphylaxis due to peanuts</td>\n",
       "      <td>199</td>\n",
       "      <td>0.854737</td>\n",
       "    </tr>\n",
       "    <tr>\n",
       "      <th>28540</th>\n",
       "      <td>5.35629</td>\n",
       "      <td>Other disorders of bladder</td>\n",
       "      <td>1653</td>\n",
       "      <td>0.852494</td>\n",
       "    </tr>\n",
       "  </tbody>\n",
       "</table>\n",
       "</div>"
      ],
      "text/plain": [
       "          logP                                     phecode_string  \\\n",
       "28482  6.76112                                        Clostridium   \n",
       "28481  6.73909           Intestinal infection due to C. difficile   \n",
       "28480  6.73909                              Clostridium difficile   \n",
       "28476  6.67666                 Disorders of phosphorus metabolism   \n",
       "28512  6.43110                                 Overactive bladder   \n",
       "28466  6.43122                      Gastrointestinal inflammation   \n",
       "28513  6.30747                Squamous cell carcinoma of the skin   \n",
       "28636  6.86254                   Cryptogenic organizing pneumonia   \n",
       "28511  6.00255                                Bacterial enteritis   \n",
       "28510  5.97849                             Cartilage tear of knee   \n",
       "28531  5.75631                                     Diffuse goiter   \n",
       "28526  5.96829     Other symptoms/disorders or the urinary system   \n",
       "29032  6.16477                           Periodic fever syndromes   \n",
       "28495  5.69815                                     Diverticulitis   \n",
       "28529  5.82196                                           Tinnitus   \n",
       "21071  5.84588  Adverse effect of penicillin, subsequent encou...   \n",
       "28695  6.60277                       Pigmentary retinal dystrophy   \n",
       "28508  5.58048                           Fracture of foot and toe   \n",
       "19671  7.22720            Allergy with anaphylaxis due to peanuts   \n",
       "28540  5.35629                         Other disorders of bladder   \n",
       "\n",
       "       Biome count     score  \n",
       "28482          563  1.000000  \n",
       "28481          545  0.997970  \n",
       "28480          545  0.997970  \n",
       "28476          320  0.996336  \n",
       "28512          905  0.963894  \n",
       "28466         7654  0.960320  \n",
       "28513          431  0.955754  \n",
       "28636           19  0.935343  \n",
       "28511         2201  0.917816  \n",
       "28510         1120  0.916977  \n",
       "28531         1357  0.893756  \n",
       "28526         1517  0.893745  \n",
       "29032           24  0.875580  \n",
       "28495         1042  0.867314  \n",
       "28529         1945  0.863159  \n",
       "21071           21  0.862987  \n",
       "28695           27  0.856228  \n",
       "28508         1001  0.855464  \n",
       "19671          199  0.854737  \n",
       "28540         1653  0.852494  "
      ]
     },
     "execution_count": 157,
     "metadata": {},
     "output_type": "execute_result"
    }
   ],
   "source": [
    "df.sort_values(by=\"score\", ascending=False)[[\"logP\", \"phecode_string\", \"Biome count\", \"score\"]].drop_duplicates(subset=\"phecode_string\").head(n=20)"
   ]
  },
  {
   "cell_type": "code",
   "execution_count": 158,
   "id": "c3394026",
   "metadata": {
    "tags": []
   },
   "outputs": [],
   "source": [
    "# df.to_csv(\"dr_test.csv\")"
   ]
  },
  {
   "cell_type": "markdown",
   "id": "7e27a210",
   "metadata": {},
   "source": [
    "# collapse "
   ]
  },
  {
   "cell_type": "markdown",
   "id": "a582458c",
   "metadata": {},
   "source": [
    "### metadata"
   ]
  },
  {
   "cell_type": "code",
   "execution_count": 159,
   "id": "88899fa4",
   "metadata": {
    "tags": []
   },
   "outputs": [],
   "source": [
    "phecodes = pd.read_csv(\"../../pheno/phecodes/phecodeX_unrolled_ICD_CM.csv\")\n",
    "icd_per_phecode = phecodes.groupby(\"phecode\")[\"ICD\"].unique().apply(list).reset_index()\n",
    "\n",
    "icd_key = pkl.load(open(\"../../pheno/icd_categories.pkl\", \"rb\"))"
   ]
  },
  {
   "cell_type": "code",
   "execution_count": 160,
   "id": "500cee26",
   "metadata": {
    "tags": []
   },
   "outputs": [],
   "source": [
    "all_case_counts = pd.read_csv(\"../../pheno/phecode_icd_counts.csv\")\n",
    "\n",
    "largest_count = 3000 "
   ]
  },
  {
   "cell_type": "markdown",
   "id": "3d509a70",
   "metadata": {},
   "source": [
    "### filter"
   ]
  },
  {
   "cell_type": "code",
   "execution_count": 161,
   "id": "793c66e0",
   "metadata": {
    "tags": []
   },
   "outputs": [],
   "source": [
    "df = df[df[\"Biome count\"] < largest_count]"
   ]
  },
  {
   "cell_type": "code",
   "execution_count": 162,
   "id": "0dfe0121",
   "metadata": {
    "tags": []
   },
   "outputs": [],
   "source": [
    "df[\"phecode_rounded\"] = df[\"phecode\"].str[:5]\n",
    "\n",
    "mask = df[\"category\"].isna()\n",
    "df.loc[mask, \"category\"] = df.loc[mask, \"phecode_rounded\"].map(icd_key)\n"
   ]
  },
  {
   "cell_type": "code",
   "execution_count": 163,
   "id": "c7578baf",
   "metadata": {
    "tags": []
   },
   "outputs": [],
   "source": [
    "filter_items = [\"Mental\", \"Health status\", \"Infections\"]\n",
    "\n",
    "df = df[~df[\"category\"].isin(filter_items)]\n",
    "df = df[~df[\"phecode_string\"].isin(filter_items)]"
   ]
  },
  {
   "cell_type": "code",
   "execution_count": 164,
   "id": "5c19b9ec",
   "metadata": {
    "tags": []
   },
   "outputs": [],
   "source": [
    "patterns = [\"allerg\", \"abuse\", \"exposure\", \"vaccin\", \"scratch\", \"choking\", \"burn\",\n",
    "                     \"bite\", \"collision\", \"fracture\", \"overdose\", \"rash\", \"striking\", \n",
    "                     \"traumatic\", \"foreign\", \"assault\", \"infection\", \"travel\", \"aquired\", \n",
    "                    \"incarcerated\"]\n",
    "\n",
    "df = df[~df[\"phecode_string\"].str.lower().str.contains(\"|\".join(\n",
    "    patterns), case=False, na=False)]"
   ]
  },
  {
   "cell_type": "code",
   "execution_count": 165,
   "id": "2bf8a263",
   "metadata": {
    "tags": []
   },
   "outputs": [],
   "source": [
    "df = df.rename(columns={\"0\":\"chr\", \"2\":\"start\", \"3\":\"end\"})"
   ]
  },
  {
   "cell_type": "markdown",
   "id": "67d32689",
   "metadata": {},
   "source": [
    "# collapse"
   ]
  },
  {
   "cell_type": "code",
   "execution_count": 166,
   "id": "785cb91b",
   "metadata": {
    "tags": []
   },
   "outputs": [],
   "source": [
    "def process_numeric_values(values_dict, include_median=False):\n",
    "    \"\"\"Calculate statistics for numeric values\"\"\"\n",
    "    result = {}\n",
    "    for col, values in values_dict.items():\n",
    "        result[f\"max_{col}\"] = max(values)\n",
    "        result[f\"avg_{col}\"] = sum(values) / len(values)\n",
    "        if include_median:\n",
    "            result[f\"median_{col}\"] = statistics.median(values)\n",
    "    return result"
   ]
  },
  {
   "cell_type": "code",
   "execution_count": 167,
   "id": "c1b01de6",
   "metadata": {
    "tags": []
   },
   "outputs": [],
   "source": [
    "def process_region(chrom, start, end, conditions, phecodes, numeric_values, condition_for_score, \n",
    "                   filtered_conditions=None, highest_score_coords=None, unique_categories=None):\n",
    "    \"\"\"Create a result row for a merged region\"\"\"\n",
    "    result_row = {\n",
    "        \"chrom\": chrom,\n",
    "        \"start\": start,\n",
    "        \"end\": end,\n",
    "        \"conditions\": conditions,\n",
    "        \"phecode\": phecodes,\n",
    "        \"number of phecodes\": len(phecodes)\n",
    "    }\n",
    "    \n",
    "    # Add filtered conditions if provided\n",
    "    if filtered_conditions is not None:\n",
    "        result_row[\"conditions_min_2_cases\"] = filtered_conditions\n",
    "    \n",
    "    # Add highest score coordinates if available\n",
    "    if highest_score_coords is not None:\n",
    "        result_row[\"highest_score_coords\"] = highest_score_coords\n",
    "    \n",
    "    # Add unique categories if provided\n",
    "    if unique_categories is not None:\n",
    "        result_row[\"unique_categories\"] = unique_categories\n",
    "    \n",
    "    # Add statistics for numeric columns\n",
    "    result_row.update(process_numeric_values(numeric_values))\n",
    "    \n",
    "    # Add condition with max score if available\n",
    "    if \"score\" in numeric_values:\n",
    "        max_score = max(numeric_values[\"score\"])\n",
    "        result_row[\"condition_with_max_score\"] = condition_for_score[max_score]\n",
    "    \n",
    "    return result_row"
   ]
  },
  {
   "cell_type": "code",
   "execution_count": 168,
   "id": "8339fe51",
   "metadata": {
    "tags": []
   },
   "outputs": [],
   "source": [
    "def merge_clusters_by_key(df, merge_key_df, numeric_cols=None, min_case_count=2, category_col=\"category\"):\n",
    "    \"\"\"\n",
    "    Merges clusters based on a provided merge key dataframe rather than by position overlap.\n",
    "    Tracks counts of each category in merged clusters.\n",
    "    \"\"\"    \n",
    "    if numeric_cols is None:\n",
    "        numeric_cols = [\"logP\", \"proportion of clique as case\", \"score\", \"Biome count\"]\n",
    "    \n",
    "    # Create a mapping from original cluster ID to merged cluster ID\n",
    "    cluster_to_merged = {}\n",
    "    for _, row in merge_key_df.iterrows():\n",
    "        for cluster_id in row[\"clusters_to_merge\"]:\n",
    "            cluster_to_merged[cluster_id] = row[\"merged_cluster_id\"]\n",
    "    \n",
    "    # Add the merged cluster ID to the original dataframe\n",
    "    df_with_merged = df.copy()\n",
    "    \n",
    "    df_with_merged[\"merged_cluster_id\"] = df_with_merged[\"name\"].map(\n",
    "        lambda x: cluster_to_merged.get(x, x)  # Use original ID if not in mapping\n",
    "    )\n",
    "    \n",
    "    results = []\n",
    "    \n",
    "    # Group by merged cluster ID\n",
    "    for merged_id, group in df_with_merged.groupby(\"merged_cluster_id\"):\n",
    "        if len(group) == 0:\n",
    "            continue\n",
    "        \n",
    "        # Determine chromosome - should be same for all rows in a merged cluster\n",
    "        chrom = group[\"chr\"].iloc[0]\n",
    "        \n",
    "        # Find min start and max end positions\n",
    "        current_start = group[\"start\"].min()\n",
    "        current_end = group[\"end\"].max()\n",
    "        \n",
    "        # Collect all conditions\n",
    "        current_conditions = []\n",
    "        current_phecode = []\n",
    "        current_case_counts = {}\n",
    "        current_condition_strings = {}\n",
    "        \n",
    "        # Track categories with counts using Counter\n",
    "        category_counter = Counter()\n",
    "        \n",
    "        for _, row in group.iterrows():\n",
    "            prevalence = row[\"Biome count\"]\n",
    "            clique_count = row[\"clique_case_count\"]\n",
    "            phecode = row[\"phecode\"]\n",
    "            condition_name = row[\"phecode_string\"]\n",
    "            condition_display = f\"{condition_name} ({clique_count}, {prevalence})\"\n",
    "            \n",
    "            if condition_display not in current_conditions:\n",
    "                current_conditions.append(condition_display)\n",
    "                current_phecode.append(phecode)\n",
    "            \n",
    "            current_case_counts[condition_name] = clique_count\n",
    "            current_condition_strings[condition_name] = condition_display\n",
    "            \n",
    "            # Count category occurrences if the column exists\n",
    "            if category_col in row:\n",
    "                category_counter[str(row[category_col])] += 1\n",
    "        \n",
    "        # Track numeric values\n",
    "        current_values = {col: list(group[col]) for col in numeric_cols if col in df.columns}\n",
    "        \n",
    "        # Track condition for score\n",
    "        condition_for_score = {}\n",
    "        score_to_coords = {}\n",
    "        if \"score\" in df.columns:\n",
    "            for _, row in group.iterrows():\n",
    "                condition_for_score[row[\"score\"]] = f\"{row['phecode_string']} ({row['clique_case_count']}, {row['Biome count']})\"\n",
    "                score_to_coords[row[\"score\"]] = f\"{chrom}:{row['start']}-{row['end']}\"\n",
    "        \n",
    "        # Create filtered condition list based on case count\n",
    "        filtered_conditions = [\n",
    "            current_condition_strings[cond] \n",
    "            for cond in current_case_counts\n",
    "            if current_case_counts[cond] >= min_case_count\n",
    "        ]\n",
    "        \n",
    "        # Get coordinates of the highest scoring row\n",
    "        highest_score_coords = None\n",
    "        if \"score\" in df.columns and score_to_coords:\n",
    "            max_score = max(current_values.get(\"score\", [])) if current_values.get(\"score\") else None\n",
    "            if max_score is not None:\n",
    "                highest_score_coords = score_to_coords.get(max_score)\n",
    "        \n",
    "        # Format categories with counts: \"category1 (count1), category2 (count2), ...\"\n",
    "        categories_with_counts = None\n",
    "        if category_counter:\n",
    "            categories_with_counts = \", \".join([f\"{cat} ({count})\" for cat, count in sorted(category_counter.items())])\n",
    "        \n",
    "        # Process the merged region - modify the process_region function call to include categories_with_counts\n",
    "        result_row = process_region(\n",
    "            chrom, current_start, current_end, \n",
    "            current_conditions, current_phecode,\n",
    "            current_values, condition_for_score,\n",
    "            filtered_conditions, highest_score_coords, categories_with_counts\n",
    "        )\n",
    "        \n",
    "        # Add the merged cluster ID to the result\n",
    "        result_row[\"merged_cluster_id\"] = merged_id\n",
    "        \n",
    "        results.append(result_row)\n",
    "    \n",
    "    # Create the result DataFrame\n",
    "    result_df = pd.DataFrame(results)\n",
    "    return result_df"
   ]
  },
  {
   "cell_type": "code",
   "execution_count": 169,
   "id": "dd3136ff",
   "metadata": {
    "tags": []
   },
   "outputs": [],
   "source": [
    "collapsed_df = merge_clusters_by_key(df, merged_clusters)"
   ]
  },
  {
   "cell_type": "code",
   "execution_count": 170,
   "id": "7445e6e4",
   "metadata": {
    "tags": []
   },
   "outputs": [],
   "source": [
    "# collapsed_df"
   ]
  },
  {
   "cell_type": "code",
   "execution_count": 171,
   "id": "3ebd5b99",
   "metadata": {
    "tags": []
   },
   "outputs": [],
   "source": [
    "# collapsed_df.to_csv(\"pr_test.csv\")"
   ]
  },
  {
   "cell_type": "code",
   "execution_count": 172,
   "id": "d989cb03",
   "metadata": {
    "tags": []
   },
   "outputs": [],
   "source": [
    "# collapsed_df.to_csv(\"pr_test.csv\")"
   ]
  },
  {
   "cell_type": "markdown",
   "id": "968297b7",
   "metadata": {},
   "source": [
    "# annotate"
   ]
  },
  {
   "cell_type": "code",
   "execution_count": 173,
   "id": "80d3717f",
   "metadata": {
    "tags": []
   },
   "outputs": [],
   "source": [
    "omim = pd.read_csv(\"../../omim/genemap2.txt\", sep=\"\\t\").dropna(subset=\"Phenotypes\")"
   ]
  },
  {
   "cell_type": "code",
   "execution_count": 174,
   "id": "15c14622",
   "metadata": {
    "tags": []
   },
   "outputs": [],
   "source": [
    "clinvar = pd.read_csv(\"../../clinvar/variant_summary_pathogenic.csv\")"
   ]
  },
  {
   "cell_type": "code",
   "execution_count": 175,
   "id": "3d56add6",
   "metadata": {
    "tags": []
   },
   "outputs": [],
   "source": [
    "clinvar = clinvar[[\"Type\", \"GeneSymbol\", \"ClinicalSignificance\", \"PhenotypeList\",\n",
    "                   \"OriginSimple\", \"ReviewStatus\", \"NumberSubmitters\"]]"
   ]
  },
  {
   "cell_type": "code",
   "execution_count": 176,
   "id": "f10ea3c3",
   "metadata": {
    "tags": []
   },
   "outputs": [],
   "source": [
    "clinvar = clinvar[clinvar[\"ClinicalSignificance\"].isin([\"Pathogenic\", \"Likely pathogenic\", \n",
    "                                              \"Pathogenic/Likely pathogenic\", \"Pathogenic; other\", \n",
    "                                             \"Pathogenic; drug response\", \n",
    "                                             \"Pathogenic; risk factor\"])]"
   ]
  },
  {
   "cell_type": "code",
   "execution_count": 177,
   "id": "f5cdba32",
   "metadata": {
    "tags": []
   },
   "outputs": [],
   "source": [
    "clinvar[\"Condition(s)\"] = clinvar[\"PhenotypeList\"].str.split(\"|\").str[0]\n"
   ]
  },
  {
   "cell_type": "code",
   "execution_count": 178,
   "id": "f3cd0aa3",
   "metadata": {
    "tags": []
   },
   "outputs": [],
   "source": [
    "clinvar = clinvar[~clinvar[\"Condition(s)\"].isin([\"not provided\", \"not specified\"])]\n",
    "\n",
    "clinvar[\"Gene(s)\"] = clinvar[\"GeneSymbol\"].str.split(\"|\").str[0]\n",
    "clinvar[\"Gene(s)\"] = clinvar[\"Gene(s)\"].str.split(\"-\").str[0]\n",
    "\n",
    "clinvar = clinvar[[\"Gene(s)\", \"Condition(s)\", \"ReviewStatus\"]].dropna().drop_duplicates()"
   ]
  },
  {
   "cell_type": "code",
   "execution_count": 179,
   "id": "1d88d011",
   "metadata": {
    "tags": []
   },
   "outputs": [],
   "source": [
    "clinvar_grouped = clinvar.groupby([\"Gene(s)\", \"ReviewStatus\"])[\"Condition(s)\"].unique().reset_index()\n",
    "clinvar_grouped[\"combined\"] = clinvar_grouped[\"Gene(s)\"] + \": \" + clinvar_grouped[\"Condition(s)\"].astype(str).str.replace(\"\\n\", \" \").str.replace(\"\\r\", \" \").str.replace(\"\\t\", \" \").str.replace(\"  +\", \" \", regex=True).str.strip()\n",
    "\n",
    "omim_grouped = omim.groupby(\"Gene/Locus And Other Related Symbols\")[\"Phenotypes\"].unique().reset_index()\n",
    "omim_grouped[\"combined\"] = omim_grouped[\"Gene/Locus And Other Related Symbols\"] + \": \" + omim_grouped[\"Phenotypes\"].astype(str)"
   ]
  },
  {
   "cell_type": "code",
   "execution_count": 180,
   "id": "51ad9be0",
   "metadata": {
    "tags": []
   },
   "outputs": [],
   "source": [
    "data = pyensembl.EnsemblRelease(release=104)\n",
    "\n",
    "# Process genes and create new columns in one pass\n",
    "results = []\n",
    "\n",
    "for _, row in collapsed_df.iterrows():\n",
    "    chrom = row[\"chrom\"]\n",
    "    min_pos = row[\"start\"]\n",
    "    max_pos = row[\"end\"]\n",
    "    \n",
    "    highest_chrom = row[\"highest_score_coords\"].split(\":\")[0]\n",
    "    highest_start = row[\"highest_score_coords\"].split(\":\")[1].split(\"-\")[0]\n",
    "    highest_end = row[\"highest_score_coords\"].split(\":\")[1].split(\"-\")[1]\n",
    "    \n",
    "    # Get gene list for locus\n",
    "    genes = data.genes_at_locus(int(chrom), min_pos, max_pos)\n",
    "    gene_list = sorted(list(set([g.gene_name for g in genes if len(g.gene_name) > 1])))\n",
    "    \n",
    "    top_region_genes = data.genes_at_locus(int(highest_chrom), int(highest_start), int(highest_end))\n",
    "    top_region_gene_list = sorted(list(set([g.gene_name for g in top_region_genes if len(g.gene_name) > 1])))\n",
    "        \n",
    "    # Process OMIM data\n",
    "    matched_omim_genes = np.array(omim[omim[\"Gene/Locus And Other Related Symbols\"].isin(gene_list)][\"Gene/Locus And Other Related Symbols\"]).tolist()\n",
    "    matched_omim_conditions = np.array(omim_grouped[omim_grouped[\"Gene/Locus And Other Related Symbols\"].isin(gene_list)][\"combined\"]).tolist()\n",
    "    \n",
    "    # Process ClinVar data - base matching\n",
    "    clinvar_matches = clinvar[clinvar[\"Gene(s)\"].isin(gene_list)]\n",
    "    matched_clinvar_genes = set(np.array(clinvar_matches[\"Gene(s)\"]).tolist())\n",
    "    \n",
    "    # Get all ClinVar conditions\n",
    "    clinvar_grouped_matches = clinvar_grouped[clinvar_grouped[\"Gene(s)\"].isin(gene_list)]\n",
    "    matched_clinvar_conditions = np.array(clinvar_grouped_matches[\"combined\"]).tolist()\n",
    "    \n",
    "    # Create separate condition lists by evidence type\n",
    "    evidence_types = clinvar_grouped[\"ReviewStatus\"].unique()\n",
    "    \n",
    "    # Initialize dictionaries for each evidence type\n",
    "    clinvar_by_evidence = {}\n",
    "    for evidence_type in evidence_types:\n",
    "        evidence_matches = clinvar_grouped_matches[clinvar_grouped_matches[\"ReviewStatus\"] == evidence_type]\n",
    "        clinvar_by_evidence[evidence_type] = np.array(evidence_matches[\"combined\"]).tolist() if not evidence_matches.empty else []\n",
    "    \n",
    "    # Collect all results for this row\n",
    "    result_dict = {\n",
    "        \"genes\": gene_list,\n",
    "        \"top region genes\": top_region_gene_list,\n",
    "        \"omim genes\": matched_omim_genes,\n",
    "        \"omim conditions\": matched_omim_conditions,\n",
    "        \"number of omim genes\": len(matched_omim_genes),\n",
    "        \"clinvar genes\": matched_clinvar_genes,\n",
    "        \"clinvar conditions\": matched_clinvar_conditions,\n",
    "        \"number of clinvar genes\": len(matched_clinvar_genes)\n",
    "    }\n",
    "    \n",
    "    # Add evidence-specific conditions\n",
    "    for evidence_type in evidence_types:\n",
    "        column_name = f\"clinvar conditions ({evidence_type})\"\n",
    "        result_dict[column_name] = clinvar_by_evidence[evidence_type]\n",
    "    \n",
    "    results.append(result_dict)\n",
    "\n",
    "# Update dataframe with all new columns at once\n",
    "for key in results[0].keys():\n",
    "    collapsed_df[key] = [result[key] for result in results]"
   ]
  },
  {
   "cell_type": "code",
   "execution_count": 181,
   "id": "feed597f",
   "metadata": {
    "tags": []
   },
   "outputs": [],
   "source": [
    "# collapsed_df.sort_values(by=\"max_score\", ascending=False).to_csv(\"pr_test.csv\")"
   ]
  },
  {
   "cell_type": "code",
   "execution_count": 182,
   "id": "d49fde05",
   "metadata": {
    "tags": []
   },
   "outputs": [],
   "source": [
    "# collapsed_df.head()"
   ]
  },
  {
   "cell_type": "code",
   "execution_count": 183,
   "id": "27e2955f",
   "metadata": {
    "tags": []
   },
   "outputs": [],
   "source": [
    "# collapsed_df.to_csv(\"aj_test_gene.csv\")"
   ]
  },
  {
   "cell_type": "markdown",
   "id": "c63a989d",
   "metadata": {},
   "source": [
    "# age at diagnosis "
   ]
  },
  {
   "cell_type": "code",
   "execution_count": 184,
   "id": "08282909",
   "metadata": {},
   "outputs": [],
   "source": [
    "def add_ind_stats(collapsed_df, column, phecode_strings, pheno_age):\n",
    "    result = []\n",
    "    \n",
    "    phecode_mapping = {}\n",
    "    for _, row in phecode_strings.iterrows():\n",
    "        phecode_mapping[row[\"phecode_string\"]] = row[\"phecode\"]\n",
    "    \n",
    "    for i, row in collapsed_df.iterrows():\n",
    "        individuals = row[\"merged_cluster_id\"].split(\"_\")\n",
    "        \n",
    "        pheno_age_ind = pheno_age[pheno_age[\"masked_mrn\"].isin(individuals)]\n",
    "        \n",
    "        updated_items = []\n",
    "        for item in row[column]:\n",
    "            string_name = item.split(\"(\")[0].strip()\n",
    "            if \"[\" in string_name:\n",
    "                string_name = string_name.split(\"[\")[0].strip()\n",
    "            \n",
    "            matching_phecodes = [code for name, code in phecode_mapping.items() if string_name in name]\n",
    "            if matching_phecodes:\n",
    "                code = matching_phecodes[0]\n",
    "                \n",
    "                ages = pheno_age_ind[pheno_age_ind[\"phecode\"] == code][\"age_at_diagnosis\"].values\n",
    "                frq = pheno_age_ind[pheno_age_ind[\"phecode\"] == code][\"frq\"].values\n",
    "\n",
    "                condition_with_stats = f\"{item.split(')')[0]}, {ages}, {frq} )\"\n",
    "                updated_items.append(condition_with_stats)\n",
    "            else:\n",
    "                updated_items.append(item)\n",
    "        \n",
    "        result.append(updated_items)\n",
    "    \n",
    "    return result"
   ]
  },
  {
   "cell_type": "markdown",
   "id": "c7b8bb11",
   "metadata": {},
   "source": [
    "# phenotype info"
   ]
  },
  {
   "cell_type": "code",
   "execution_count": 185,
   "id": "bb9a2105",
   "metadata": {},
   "outputs": [],
   "source": [
    "phecode_strings = df[[\"phecode\", \"phecode_string\"]].drop_duplicates()"
   ]
  },
  {
   "cell_type": "code",
   "execution_count": 186,
   "id": "ed2f6222",
   "metadata": {
    "tags": []
   },
   "outputs": [],
   "source": [
    "phecode_age = pd.read_csv(\"../../pheno/age_at_first_diagnosis_phecode.csv\")\n",
    "\n",
    "icd_age = pd.read_csv(\"../../pheno/age_at_first_diagnosis_icd.csv\")\n",
    "icd_age = icd_age.rename(columns={\"dx_code1\":\"phecode\"})\n",
    "\n",
    "pheno_age = pd.concat([phecode_age, icd_age])\n",
    "pheno_age[\"masked_mrn\"] = pheno_age[\"masked_mrn\"].astype(int).astype(str)"
   ]
  },
  {
   "cell_type": "code",
   "execution_count": 187,
   "id": "aee0f25f",
   "metadata": {},
   "outputs": [],
   "source": [
    "phecode_frq = pd.read_csv(\"../../pheno/phecode_freq.csv\")\n",
    "\n",
    "icd_frq = pd.read_csv(\"../../pheno/icd_freq.csv\")\n",
    "icd_frq = icd_frq.rename(columns={\"dx_code1\":\"phecode\"})\n",
    "\n",
    "phecode_frq = pd.concat([phecode_frq, icd_frq])\n",
    "phecode_frq[\"masked_mrn\"] = phecode_frq[\"masked_mrn\"].astype(int).astype(str)\n",
    "phecode_frq = phecode_frq.rename(columns={\"contact_date\":\"frq\"})"
   ]
  },
  {
   "cell_type": "code",
   "execution_count": 188,
   "id": "a38c93cd",
   "metadata": {},
   "outputs": [],
   "source": [
    "pheno_age = pheno_age.merge(phecode_frq, on=[\"phecode\", \"masked_mrn\"])"
   ]
  },
  {
   "cell_type": "markdown",
   "id": "ad5e5325",
   "metadata": {},
   "source": [
    "# add to dataframe"
   ]
  },
  {
   "cell_type": "code",
   "execution_count": 189,
   "id": "d6477b62",
   "metadata": {
    "tags": []
   },
   "outputs": [],
   "source": [
    "collapsed_df[\"conditions_min_2_age_of_onset\"] = add_ind_stats(collapsed_df, \"conditions_min_2_cases\", phecode_strings, pheno_age)"
   ]
  },
  {
   "cell_type": "code",
   "execution_count": 190,
   "id": "60c4c73c",
   "metadata": {
    "tags": []
   },
   "outputs": [],
   "source": [
    "collapsed_df[\"conditions_age_of_onset\"] = add_ind_stats(collapsed_df, \"conditions\", phecode_strings, pheno_age)"
   ]
  },
  {
   "cell_type": "code",
   "execution_count": 191,
   "id": "4450b6a0",
   "metadata": {
    "tags": []
   },
   "outputs": [],
   "source": [
    "collapsed_df.to_csv(\"aj_test.csv\", index=False) "
   ]
  },
  {
   "cell_type": "code",
   "execution_count": null,
   "id": "32369692",
   "metadata": {},
   "outputs": [],
   "source": []
  }
 ],
 "metadata": {
  "kernelspec": {
   "display_name": "Python 3 (ipykernel)",
   "language": "python",
   "name": "python3"
  },
  "language_info": {
   "codemirror_mode": {
    "name": "ipython",
    "version": 3
   },
   "file_extension": ".py",
   "mimetype": "text/x-python",
   "name": "python",
   "nbconvert_exporter": "python",
   "pygments_lexer": "ipython3",
   "version": "3.11.5"
  },
  "toc-autonumbering": false,
  "toc-showcode": false,
  "toc-showmarkdowntxt": true
 },
 "nbformat": 4,
 "nbformat_minor": 5
}
