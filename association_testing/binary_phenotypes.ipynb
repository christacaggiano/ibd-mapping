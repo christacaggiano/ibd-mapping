{
 "cells": [
  {
   "cell_type": "code",
   "execution_count": 1,
   "id": "b6016027",
   "metadata": {},
   "outputs": [],
   "source": [
    "import pandas as pd \n",
    "import seaborn as sns \n",
    "import matplotlib.pyplot as plt \n",
    "import numpy as np\n",
    "import math \n",
    "import csv\n",
    "from qmplot import manhattanplot, qqplot\n",
    "from statsmodels.stats.multitest import multipletests\n",
    "import warnings\n",
    "warnings.filterwarnings(\"ignore\")"
   ]
  },
  {
   "cell_type": "markdown",
   "id": "fa59d92c",
   "metadata": {},
   "source": [
    "# phenotypes"
   ]
  },
  {
   "cell_type": "code",
   "execution_count": 2,
   "id": "feed2882",
   "metadata": {},
   "outputs": [],
   "source": [
    "# id_map_file = pd.read_csv(\"../../data/biome/pheno/ID_Masked_Mrn_Mapping.csv\")\n",
    "# id_map_file[\"MASKED_MRN\"] = id_map_file[\"MASKED_MRN\"].astype(str)\n",
    "\n",
    "# fam = pd.read_csv(\"../mapping_ibd/input_files/cluster1.fam\", header=None, sep=\"\\t\")\n",
    "# fam[0] = fam[0].astype(str)\n",
    "# fam = fam.merge(id_map_file, left_on=0, right_on=\"MASKED_MRN\")"
   ]
  },
  {
   "cell_type": "code",
   "execution_count": 3,
   "id": "236e87bd",
   "metadata": {},
   "outputs": [],
   "source": [
    "# phecode = pd.read_csv(\"../pheno/phecodeTable_BioMe_withSexPhecode_MinCount1_mrn.csv\")"
   ]
  },
  {
   "cell_type": "code",
   "execution_count": 4,
   "id": "92012295",
   "metadata": {},
   "outputs": [],
   "source": [
    "# icd = pd.read_csv(\"/sc/private/regen/data/BioMe/BRSSPD/2024-02-07/Encounter_Diagnosis.txt\", sep=\"|\")"
   ]
  },
  {
   "cell_type": "code",
   "execution_count": 5,
   "id": "e28ffbd6",
   "metadata": {},
   "outputs": [],
   "source": [
    "# phecode[phecode[\"id\"].isin(fam[\"SUBJECT_ID\"])][\"GE_972.5\"].value_counts()"
   ]
  },
  {
   "cell_type": "code",
   "execution_count": 6,
   "id": "9778e56a",
   "metadata": {},
   "outputs": [],
   "source": [
    "# pr_icd = icd[icd[\"subject_id\"].isin(fam[\"SUBJECT_ID\"].unique())]"
   ]
  },
  {
   "cell_type": "code",
   "execution_count": 7,
   "id": "33a2adff",
   "metadata": {},
   "outputs": [],
   "source": [
    "# pr_icd[pr_icd[\"dx_code1\"].str[:3] == \"Q87\"].groupby(\"dx_code1\")[\"subject_id\"].nunique()"
   ]
  },
  {
   "cell_type": "code",
   "execution_count": 8,
   "id": "2a94c67a",
   "metadata": {},
   "outputs": [],
   "source": [
    "# icd[(icd[\"subject_id\"] == \"SINAI_7087_AB36428947\")].drop_duplicates(subset=\"dx_name\")"
   ]
  },
  {
   "cell_type": "code",
   "execution_count": 9,
   "id": "eebf065b",
   "metadata": {},
   "outputs": [],
   "source": [
    "# for i, row in icd[icd[\"subject_id\"] == \"SINAI_29924_AB42068820\"][[\"dx_code1\", \"dx_name\"]].drop_duplicates().iterrows(): \n",
    "#     print(row)"
   ]
  },
  {
   "cell_type": "code",
   "execution_count": 10,
   "id": "b8d5f834",
   "metadata": {},
   "outputs": [],
   "source": [
    "# d = pd.read_csv(\"comparison/spon/spon_phen.txt\", sep=\"\\t\")"
   ]
  },
  {
   "cell_type": "code",
   "execution_count": 11,
   "id": "3349b4bd",
   "metadata": {},
   "outputs": [],
   "source": [
    "# d[d[\"IID\"] == 27900]"
   ]
  },
  {
   "cell_type": "code",
   "execution_count": 12,
   "id": "d2b735df",
   "metadata": {},
   "outputs": [],
   "source": [
    "# id_map_file[id_map_file[\"MASKED_MRN\"] == \"201431\"]"
   ]
  },
  {
   "cell_type": "code",
   "execution_count": 13,
   "id": "c686ed5e",
   "metadata": {},
   "outputs": [],
   "source": [
    "# f = fam.merge(id_map_file, left_on=0, right_on=\"MASKED_MRN\")\n",
    "# f[[\"SUBJECT_ID\", \"SUBJECT_ID\", 2, 3, 4, 5 ]].to_csv(\"../mapping_ibd/input_files/redone/cluster2_redone_exome.fam\", sep=\"\\t\", index=False, header=None)"
   ]
  },
  {
   "cell_type": "code",
   "execution_count": 14,
   "id": "ca1ff78e",
   "metadata": {},
   "outputs": [],
   "source": [
    "# p = pd.read_csv(\"../pheno/phecodeTable_BioMe_withSexPhecode_MinCount1_mrn.tsv\", sep=\"\\t\")"
   ]
  },
  {
   "cell_type": "code",
   "execution_count": 15,
   "id": "d01fa446",
   "metadata": {},
   "outputs": [],
   "source": [
    "# p.to_csv(\"../pheno/phecodeTable_BioMe_withSexPhecode_MinCount1_mrn.csv\", index=False)"
   ]
  },
  {
   "cell_type": "code",
   "execution_count": 16,
   "id": "f0b978f9",
   "metadata": {},
   "outputs": [],
   "source": [
    "# icd = pd.read_csv(\"comparison/steel/steel_pheno.txt\", sep=\"\\t\")\n",
    "# # icd[\"MASKED_MRN\"] = icd[\"MASKED_MRN\"].astype(str)\n",
    "# # pr_icd = icd[icd[\"MASKED_MRN\"].isin(fam[0].values)]"
   ]
  },
  {
   "cell_type": "code",
   "execution_count": 17,
   "id": "e288abcf",
   "metadata": {},
   "outputs": [],
   "source": [
    "# icd[icd[\"CM_770\"] == 2]"
   ]
  },
  {
   "cell_type": "code",
   "execution_count": 18,
   "id": "57094103",
   "metadata": {},
   "outputs": [],
   "source": [
    "# icd.value_counts()"
   ]
  },
  {
   "cell_type": "code",
   "execution_count": 19,
   "id": "519e1e4d",
   "metadata": {},
   "outputs": [],
   "source": [
    "# pr_icd"
   ]
  },
  {
   "cell_type": "code",
   "execution_count": 20,
   "id": "9460ddcb",
   "metadata": {},
   "outputs": [],
   "source": [
    "# pr_icd[\"CM_770\"].value_counts()"
   ]
  },
  {
   "cell_type": "code",
   "execution_count": 21,
   "id": "32282b0c",
   "metadata": {},
   "outputs": [],
   "source": [
    "# pr_icd = pr_icd[[\"MASKED_MRN\", \"MASKED_MRN\", \"CM_770\"]]\n",
    "# pr_icd = pr_icd.replace({False:1, True:2})\n",
    "# pr_icd.columns = [\"FID\", \"IID\", \"CM_770\"]"
   ]
  },
  {
   "cell_type": "code",
   "execution_count": 22,
   "id": "4e1b6346",
   "metadata": {},
   "outputs": [],
   "source": [
    "# pr_icd.to_csv(\"../pheno/steel.tsv\", sep=\"\\t\", index=False)"
   ]
  },
  {
   "cell_type": "code",
   "execution_count": 23,
   "id": "8806d5bc",
   "metadata": {},
   "outputs": [],
   "source": [
    "# pr_icd = pr_icd.drop_duplicates(subset=\"FID\")"
   ]
  },
  {
   "cell_type": "code",
   "execution_count": 24,
   "id": "ee37c5d6",
   "metadata": {},
   "outputs": [],
   "source": [
    "# pr_icd[\"CM_770\"].value_counts()"
   ]
  },
  {
   "cell_type": "code",
   "execution_count": 25,
   "id": "9591592d",
   "metadata": {},
   "outputs": [],
   "source": [
    "# pr_icd.to_csv(\"comparison/steel/steel_pheno.txt\", sep=\"\\t\", index=False)"
   ]
  },
  {
   "cell_type": "code",
   "execution_count": 26,
   "id": "06186ca6",
   "metadata": {},
   "outputs": [],
   "source": [
    "# phen = df[[\"MASKED_MRN\", \"MASKED_MRN\", \"GI_542.8\", \"GI_542.81\" ]]\n",
    "# phen.columns = [\"FID\", \"IID\", \"GI_542.8\", \"GI_542.81\"]\n",
    "# phen = phen.replace({True:2, False:1})\n",
    "# phen = phen.drop_duplicates(subset=\"FID\")"
   ]
  },
  {
   "cell_type": "markdown",
   "id": "7b4f92a0",
   "metadata": {},
   "source": [
    "# read in data"
   ]
  },
  {
   "cell_type": "code",
   "execution_count": 27,
   "id": "e3625239",
   "metadata": {},
   "outputs": [],
   "source": [
    "def combine_dataframes(directory, ext, pop): \n",
    "    df_list = []\n",
    "    \n",
    "    for i in range(1, 23): \n",
    "        df = pd.read_csv(f\"{directory}/{pop}_{i}{ext}\", sep=\"\\t\")\n",
    "        df = df.dropna()\n",
    "        df_list.append(df)\n",
    "        \n",
    "    return pd.concat(df_list)"
   ]
  },
  {
   "cell_type": "code",
   "execution_count": 28,
   "id": "3e95db2a",
   "metadata": {},
   "outputs": [],
   "source": [
    "def return_frequency(directory, ext, pop): \n",
    "    \n",
    "    frq = combine_dataframes(directory, ext, pop)\n",
    "        \n",
    "    frq[\"cluster_size\"] = frq[\"HET_REF_ALT_CTS\"] + frq[\"TWO_ALT_GENO_CTS\"]\n",
    "    frq[\"name\"] = frq[\"ID\"].astype(str) + \"_\" + frq[\"#CHROM\"].astype(str)\n",
    "    frq[\"maf\"] = (frq[\"TWO_ALT_GENO_CTS\"] + (frq[\"HET_REF_ALT_CTS\"]/2))/(frq[\"HET_REF_ALT_CTS\"] + frq[\"TWO_ALT_GENO_CTS\"] + frq[\"HOM_REF_CT\"] )\n",
    "    \n",
    "    return frq"
   ]
  },
  {
   "cell_type": "code",
   "execution_count": 29,
   "id": "5e120bb3",
   "metadata": {},
   "outputs": [],
   "source": [
    "def return_assoc(directory, ext, pop): \n",
    "    \n",
    "    assoc = combine_dataframes(directory, ext, pop)\n",
    "    assoc[\"name\"] = assoc[\"ID\"].astype(str) + \"_\" + assoc[\"#CHROM\"].astype(str)\n",
    "    assoc[\"name\"] = assoc[\"ID\"].astype(str) + \"_\" + assoc[\"#CHROM\"].astype(str)\n",
    "\n",
    "    return assoc"
   ]
  },
  {
   "cell_type": "code",
   "execution_count": 30,
   "id": "e83ebb4e",
   "metadata": {},
   "outputs": [],
   "source": [
    "def perform_qc(assoc, case_frq, frq, case_count=1, min_hom_count=3, max_frq_maf=0.05, std_thresh=3, qc_type=\"all\"): \n",
    "    \n",
    "    min_hom = frq[frq[\"TWO_ALT_GENO_CTS\"] >= min_hom_count][\"name\"].values\n",
    "    \n",
    "    min_hom_case = set(case_frq[case_frq[\"TWO_ALT_GENO_CTS\"] >= case_count][\"name\"].values)\n",
    "    min_hom_both = set(min_hom_case).intersection(set(min_hom))\n",
    "    \n",
    "    max_frq = frq[frq[\"maf\"] < 0.05][\"name\"].values \n",
    "    \n",
    "    mean, std = frq[\"cluster_size\"].mean(), frq[\"cluster_size\"].std()\n",
    "    cluster_sharing = set(frq[frq[\"cluster_size\"] <= (std_thresh*std) + mean][\"name\"].values).intersection(min_hom)\n",
    "    \n",
    "    case_all = set(cluster_sharing).intersection(set(min_hom_case)).intersection(set(max_frq))\n",
    "\n",
    "    all_intersection = set(cluster_sharing).intersection(set(min_hom)).intersection(set(max_frq))\n",
    "    \n",
    "    qc_type_dict = {\"maf\":max_frq, \"min_hom\":min_hom, \"cluster_sharing\":cluster_sharing,\n",
    "                    \"all\":all_intersection, \"case_all\":case_all, \n",
    "                    \"case_hom\":min_hom_case, \"min_hom_both\":min_hom_both, \n",
    "                   \"none\":frq[\"name\"].values}\n",
    "    \n",
    "    return assoc[assoc[\"name\"].isin(qc_type_dict[qc_type])], qc_type_dict"
   ]
  },
  {
   "cell_type": "code",
   "execution_count": 31,
   "id": "97f698ac",
   "metadata": {},
   "outputs": [],
   "source": [
    "def multiple_test_correction(df, test_type=\"bonferroni\"): \n",
    "    \n",
    "    df[test_type] = multipletests(df[\"P\"], method=test_type)[0]\n",
    "    df[\"-log P\"] = -(np.log10(df[\"P\"]))"
   ]
  },
  {
   "cell_type": "markdown",
   "id": "a7a82115",
   "metadata": {},
   "source": [
    "### make dataframes"
   ]
  },
  {
   "cell_type": "code",
   "execution_count": 32,
   "id": "b3ce4cfa",
   "metadata": {},
   "outputs": [],
   "source": [
    "directory = \"comparison/fmf/icurl/\"\n",
    "ext = \".GE_981.5.glm.logistic.hybrid\"\n",
    "pop=\"aj\"\n",
    "\n",
    "assoc = return_assoc(directory, ext, pop)\n",
    "frq = return_frequency(directory, \".gcount\", pop)\n",
    "case_frq = return_frequency(directory, \"_case.gcount\", pop)"
   ]
  },
  {
   "cell_type": "code",
   "execution_count": 47,
   "id": "ef567bce",
   "metadata": {},
   "outputs": [],
   "source": [
    "d = pd.read_csv(\"comparison/dys/dys_covs.txt\", sep=\"\\t\")"
   ]
  },
  {
   "cell_type": "code",
   "execution_count": 33,
   "id": "829283c3",
   "metadata": {},
   "outputs": [],
   "source": [
    "# a = pd.read_csv(\"comparison/hp/hp_phen.txt\", sep=\"\\t\")\n",
    "# a[a[\"GE_962.133\"] == 2]"
   ]
  },
  {
   "cell_type": "markdown",
   "id": "5ac39892",
   "metadata": {},
   "source": [
    "# qc "
   ]
  },
  {
   "cell_type": "markdown",
   "id": "aea328fb",
   "metadata": {},
   "source": [
    "### run QC "
   ]
  },
  {
   "cell_type": "code",
   "execution_count": 34,
   "id": "44f790bc",
   "metadata": {},
   "outputs": [],
   "source": [
    "assoc_qc, qc_dict = perform_qc(assoc, case_frq, frq, qc_type=\"min_hom\", case_count=1, min_hom_count=3)"
   ]
  },
  {
   "cell_type": "code",
   "execution_count": 35,
   "id": "ffbfdaee",
   "metadata": {},
   "outputs": [
    {
     "data": {
      "text/plain": [
       "(21330, 0, 79, 1138)"
      ]
     },
     "execution_count": 35,
     "metadata": {},
     "output_type": "execute_result"
    }
   ],
   "source": [
    "len(qc_dict[\"min_hom\"]), len(qc_dict[\"case_all\"]), len(qc_dict[\"case_hom\"]), len(qc_dict[\"all\"])"
   ]
  },
  {
   "cell_type": "code",
   "execution_count": 36,
   "id": "f09aaa95",
   "metadata": {},
   "outputs": [
    {
     "data": {
      "text/plain": [
       "21330"
      ]
     },
     "execution_count": 36,
     "metadata": {},
     "output_type": "execute_result"
    }
   ],
   "source": [
    "len(assoc_qc)"
   ]
  },
  {
   "cell_type": "code",
   "execution_count": 37,
   "id": "1bb46140",
   "metadata": {},
   "outputs": [],
   "source": [
    "# assoc_qc = assoc_qc[assoc_qc[\"OR\"] >= 1]"
   ]
  },
  {
   "cell_type": "code",
   "execution_count": 38,
   "id": "923f4ff2",
   "metadata": {},
   "outputs": [
    {
     "data": {
      "text/plain": [
       "21330"
      ]
     },
     "execution_count": 38,
     "metadata": {},
     "output_type": "execute_result"
    }
   ],
   "source": [
    "len(assoc_qc)"
   ]
  },
  {
   "cell_type": "code",
   "execution_count": 39,
   "id": "ee373f14",
   "metadata": {},
   "outputs": [],
   "source": [
    "multiple_test_correction(assoc_qc)"
   ]
  },
  {
   "cell_type": "markdown",
   "id": "48ab202c",
   "metadata": {},
   "source": [
    "# plots"
   ]
  },
  {
   "cell_type": "markdown",
   "id": "4cfaf135",
   "metadata": {},
   "source": [
    "\n",
    "### P value histogram "
   ]
  },
  {
   "cell_type": "code",
   "execution_count": 40,
   "id": "147a8e58",
   "metadata": {},
   "outputs": [],
   "source": [
    "# sns.histplot(x=\"P\", data=assoc_qc, color=\"#9B97B2\")\n",
    "# plt.show()"
   ]
  },
  {
   "cell_type": "markdown",
   "id": "5144f525",
   "metadata": {},
   "source": [
    "### QQ plot"
   ]
  },
  {
   "cell_type": "code",
   "execution_count": 41,
   "id": "136de60e",
   "metadata": {},
   "outputs": [],
   "source": [
    "# qqplot(data=assoc_qc[\"P\"], color=\"#73A6AD\", alpha=1)\n",
    "# sns.despine()\n",
    "# plt.show()"
   ]
  },
  {
   "cell_type": "markdown",
   "id": "abcce083",
   "metadata": {},
   "source": [
    "### manhattan plot"
   ]
  },
  {
   "cell_type": "code",
   "execution_count": 42,
   "id": "ee4ab142",
   "metadata": {},
   "outputs": [
    {
     "data": {
      "image/png": "[encoded data removed]",
      "text/plain": [
       "<Figure size 640x480 with 1 Axes>"
      ]
     },
     "metadata": {},
     "output_type": "display_data"
    }
   ],
   "source": [
    "order = [str(i) for i in range(1, 23)]\n",
    "bonf_line = -np.log10(0.05/len(assoc_qc))\n",
    "\n",
    "sns.stripplot(x=\"#CHROM\", y=\"-log P\", data=assoc_qc, order=order, jitter=0.3, \n",
    "               palette=sns.color_palette([\"#9B97B2\", \"#C7B8EA\"]*11))\n",
    "\n",
    "plt.axhline(y=bonf_line, linestyle=\"--\", color=\"lightgrey\") \n",
    "plt.xlabel(\"chromosome\")\n",
    "sns.despine()\n",
    "plt.show()"
   ]
  },
  {
   "cell_type": "code",
   "execution_count": 93,
   "id": "4c3d716e",
   "metadata": {},
   "outputs": [
    {
     "data": {
      "text/html": [
       "<div>\n",
       "<style scoped>\n",
       "    .dataframe tbody tr th:only-of-type {\n",
       "        vertical-align: middle;\n",
       "    }\n",
       "\n",
       "    .dataframe tbody tr th {\n",
       "        vertical-align: top;\n",
       "    }\n",
       "\n",
       "    .dataframe thead th {\n",
       "        text-align: right;\n",
       "    }\n",
       "</style>\n",
       "<table border=\"1\" class=\"dataframe\">\n",
       "  <thead>\n",
       "    <tr style=\"text-align: right;\">\n",
       "      <th></th>\n",
       "      <th>#CHROM</th>\n",
       "      <th>POS</th>\n",
       "      <th>ID</th>\n",
       "      <th>REF</th>\n",
       "      <th>ALT</th>\n",
       "      <th>PROVISIONAL_REF?</th>\n",
       "      <th>A1</th>\n",
       "      <th>OMITTED</th>\n",
       "      <th>A1_FREQ</th>\n",
       "      <th>FIRTH?</th>\n",
       "      <th>TEST</th>\n",
       "      <th>OBS_CT</th>\n",
       "      <th>OR</th>\n",
       "      <th>LOG(OR)_SE</th>\n",
       "      <th>Z_STAT</th>\n",
       "      <th>P</th>\n",
       "      <th>ERRCODE</th>\n",
       "      <th>name</th>\n",
       "      <th>bonferroni</th>\n",
       "      <th>-log P</th>\n",
       "    </tr>\n",
       "  </thead>\n",
       "  <tbody>\n",
       "    <tr>\n",
       "      <th>43704</th>\n",
       "      <td>11</td>\n",
       "      <td>25750000</td>\n",
       "      <td>c825264_11</td>\n",
       "      <td>1</td>\n",
       "      <td>2</td>\n",
       "      <td>Y</td>\n",
       "      <td>2</td>\n",
       "      <td>1</td>\n",
       "      <td>0.010098</td>\n",
       "      <td>N</td>\n",
       "      <td>REC</td>\n",
       "      <td>7378</td>\n",
       "      <td>315.091</td>\n",
       "      <td>1.27837</td>\n",
       "      <td>4.50015</td>\n",
       "      <td>0.000007</td>\n",
       "      <td>.</td>\n",
       "      <td>c825264_11_11</td>\n",
       "      <td>False</td>\n",
       "      <td>5.168092</td>\n",
       "    </tr>\n",
       "    <tr>\n",
       "      <th>44037</th>\n",
       "      <td>11</td>\n",
       "      <td>26000000</td>\n",
       "      <td>c23211_11</td>\n",
       "      <td>1</td>\n",
       "      <td>2</td>\n",
       "      <td>Y</td>\n",
       "      <td>2</td>\n",
       "      <td>1</td>\n",
       "      <td>0.010436</td>\n",
       "      <td>N</td>\n",
       "      <td>REC</td>\n",
       "      <td>7378</td>\n",
       "      <td>315.091</td>\n",
       "      <td>1.27837</td>\n",
       "      <td>4.50015</td>\n",
       "      <td>0.000007</td>\n",
       "      <td>.</td>\n",
       "      <td>c23211_11_11</td>\n",
       "      <td>False</td>\n",
       "      <td>5.168092</td>\n",
       "    </tr>\n",
       "    <tr>\n",
       "      <th>43453</th>\n",
       "      <td>11</td>\n",
       "      <td>25500000</td>\n",
       "      <td>c824065_11</td>\n",
       "      <td>1</td>\n",
       "      <td>2</td>\n",
       "      <td>Y</td>\n",
       "      <td>2</td>\n",
       "      <td>1</td>\n",
       "      <td>0.009894</td>\n",
       "      <td>N</td>\n",
       "      <td>REC</td>\n",
       "      <td>7378</td>\n",
       "      <td>315.091</td>\n",
       "      <td>1.27837</td>\n",
       "      <td>4.50015</td>\n",
       "      <td>0.000007</td>\n",
       "      <td>.</td>\n",
       "      <td>c824065_11_11</td>\n",
       "      <td>False</td>\n",
       "      <td>5.168092</td>\n",
       "    </tr>\n",
       "    <tr>\n",
       "      <th>44490</th>\n",
       "      <td>11</td>\n",
       "      <td>26250000</td>\n",
       "      <td>c25478_11</td>\n",
       "      <td>1</td>\n",
       "      <td>2</td>\n",
       "      <td>Y</td>\n",
       "      <td>2</td>\n",
       "      <td>1</td>\n",
       "      <td>0.010843</td>\n",
       "      <td>N</td>\n",
       "      <td>REC</td>\n",
       "      <td>7378</td>\n",
       "      <td>485.847</td>\n",
       "      <td>1.37499</td>\n",
       "      <td>4.49887</td>\n",
       "      <td>0.000007</td>\n",
       "      <td>.</td>\n",
       "      <td>c25478_11_11</td>\n",
       "      <td>False</td>\n",
       "      <td>5.165471</td>\n",
       "    </tr>\n",
       "    <tr>\n",
       "      <th>45155</th>\n",
       "      <td>11</td>\n",
       "      <td>26750000</td>\n",
       "      <td>c28401_11</td>\n",
       "      <td>1</td>\n",
       "      <td>2</td>\n",
       "      <td>Y</td>\n",
       "      <td>2</td>\n",
       "      <td>1</td>\n",
       "      <td>0.010436</td>\n",
       "      <td>N</td>\n",
       "      <td>REC</td>\n",
       "      <td>7378</td>\n",
       "      <td>485.847</td>\n",
       "      <td>1.37499</td>\n",
       "      <td>4.49887</td>\n",
       "      <td>0.000007</td>\n",
       "      <td>.</td>\n",
       "      <td>c28401_11_11</td>\n",
       "      <td>False</td>\n",
       "      <td>5.165471</td>\n",
       "    </tr>\n",
       "    <tr>\n",
       "      <th>44799</th>\n",
       "      <td>11</td>\n",
       "      <td>26500000</td>\n",
       "      <td>c26850_11</td>\n",
       "      <td>1</td>\n",
       "      <td>2</td>\n",
       "      <td>Y</td>\n",
       "      <td>2</td>\n",
       "      <td>1</td>\n",
       "      <td>0.010369</td>\n",
       "      <td>N</td>\n",
       "      <td>REC</td>\n",
       "      <td>7378</td>\n",
       "      <td>485.847</td>\n",
       "      <td>1.37499</td>\n",
       "      <td>4.49887</td>\n",
       "      <td>0.000007</td>\n",
       "      <td>.</td>\n",
       "      <td>c26850_11_11</td>\n",
       "      <td>False</td>\n",
       "      <td>5.165471</td>\n",
       "    </tr>\n",
       "    <tr>\n",
       "      <th>45494</th>\n",
       "      <td>11</td>\n",
       "      <td>27000000</td>\n",
       "      <td>c29980_11</td>\n",
       "      <td>1</td>\n",
       "      <td>2</td>\n",
       "      <td>Y</td>\n",
       "      <td>2</td>\n",
       "      <td>1</td>\n",
       "      <td>0.010843</td>\n",
       "      <td>N</td>\n",
       "      <td>REC</td>\n",
       "      <td>7378</td>\n",
       "      <td>485.847</td>\n",
       "      <td>1.37499</td>\n",
       "      <td>4.49887</td>\n",
       "      <td>0.000007</td>\n",
       "      <td>.</td>\n",
       "      <td>c29980_11_11</td>\n",
       "      <td>False</td>\n",
       "      <td>5.165471</td>\n",
       "    </tr>\n",
       "    <tr>\n",
       "      <th>40779</th>\n",
       "      <td>11</td>\n",
       "      <td>24000000</td>\n",
       "      <td>c810118_11</td>\n",
       "      <td>1</td>\n",
       "      <td>2</td>\n",
       "      <td>Y</td>\n",
       "      <td>2</td>\n",
       "      <td>1</td>\n",
       "      <td>0.012198</td>\n",
       "      <td>N</td>\n",
       "      <td>REC</td>\n",
       "      <td>7378</td>\n",
       "      <td>434.062</td>\n",
       "      <td>1.35305</td>\n",
       "      <td>4.48852</td>\n",
       "      <td>0.000007</td>\n",
       "      <td>.</td>\n",
       "      <td>c810118_11_11</td>\n",
       "      <td>False</td>\n",
       "      <td>5.144354</td>\n",
       "    </tr>\n",
       "    <tr>\n",
       "      <th>41917</th>\n",
       "      <td>11</td>\n",
       "      <td>24750000</td>\n",
       "      <td>c815950_11</td>\n",
       "      <td>1</td>\n",
       "      <td>2</td>\n",
       "      <td>Y</td>\n",
       "      <td>2</td>\n",
       "      <td>1</td>\n",
       "      <td>0.013486</td>\n",
       "      <td>N</td>\n",
       "      <td>REC</td>\n",
       "      <td>7378</td>\n",
       "      <td>294.571</td>\n",
       "      <td>1.26965</td>\n",
       "      <td>4.47803</td>\n",
       "      <td>0.000008</td>\n",
       "      <td>.</td>\n",
       "      <td>c815950_11_11</td>\n",
       "      <td>False</td>\n",
       "      <td>5.123005</td>\n",
       "    </tr>\n",
       "    <tr>\n",
       "      <th>41593</th>\n",
       "      <td>11</td>\n",
       "      <td>24500000</td>\n",
       "      <td>c814333_11</td>\n",
       "      <td>1</td>\n",
       "      <td>2</td>\n",
       "      <td>Y</td>\n",
       "      <td>2</td>\n",
       "      <td>1</td>\n",
       "      <td>0.012876</td>\n",
       "      <td>N</td>\n",
       "      <td>REC</td>\n",
       "      <td>7378</td>\n",
       "      <td>294.571</td>\n",
       "      <td>1.26965</td>\n",
       "      <td>4.47803</td>\n",
       "      <td>0.000008</td>\n",
       "      <td>.</td>\n",
       "      <td>c814333_11_11</td>\n",
       "      <td>False</td>\n",
       "      <td>5.123005</td>\n",
       "    </tr>\n",
       "  </tbody>\n",
       "</table>\n",
       "</div>"
      ],
      "text/plain": [
       "       #CHROM       POS          ID  REF  ALT PROVISIONAL_REF?  A1  OMITTED  \\\n",
       "43704      11  25750000  c825264_11    1    2                Y   2        1   \n",
       "44037      11  26000000   c23211_11    1    2                Y   2        1   \n",
       "43453      11  25500000  c824065_11    1    2                Y   2        1   \n",
       "44490      11  26250000   c25478_11    1    2                Y   2        1   \n",
       "45155      11  26750000   c28401_11    1    2                Y   2        1   \n",
       "44799      11  26500000   c26850_11    1    2                Y   2        1   \n",
       "45494      11  27000000   c29980_11    1    2                Y   2        1   \n",
       "40779      11  24000000  c810118_11    1    2                Y   2        1   \n",
       "41917      11  24750000  c815950_11    1    2                Y   2        1   \n",
       "41593      11  24500000  c814333_11    1    2                Y   2        1   \n",
       "\n",
       "        A1_FREQ FIRTH? TEST  OBS_CT       OR  LOG(OR)_SE   Z_STAT         P  \\\n",
       "43704  0.010098      N  REC    7378  315.091     1.27837  4.50015  0.000007   \n",
       "44037  0.010436      N  REC    7378  315.091     1.27837  4.50015  0.000007   \n",
       "43453  0.009894      N  REC    7378  315.091     1.27837  4.50015  0.000007   \n",
       "44490  0.010843      N  REC    7378  485.847     1.37499  4.49887  0.000007   \n",
       "45155  0.010436      N  REC    7378  485.847     1.37499  4.49887  0.000007   \n",
       "44799  0.010369      N  REC    7378  485.847     1.37499  4.49887  0.000007   \n",
       "45494  0.010843      N  REC    7378  485.847     1.37499  4.49887  0.000007   \n",
       "40779  0.012198      N  REC    7378  434.062     1.35305  4.48852  0.000007   \n",
       "41917  0.013486      N  REC    7378  294.571     1.26965  4.47803  0.000008   \n",
       "41593  0.012876      N  REC    7378  294.571     1.26965  4.47803  0.000008   \n",
       "\n",
       "      ERRCODE           name  bonferroni    -log P  \n",
       "43704       .  c825264_11_11       False  5.168092  \n",
       "44037       .   c23211_11_11       False  5.168092  \n",
       "43453       .  c824065_11_11       False  5.168092  \n",
       "44490       .   c25478_11_11       False  5.165471  \n",
       "45155       .   c28401_11_11       False  5.165471  \n",
       "44799       .   c26850_11_11       False  5.165471  \n",
       "45494       .   c29980_11_11       False  5.165471  \n",
       "40779       .  c810118_11_11       False  5.144354  \n",
       "41917       .  c815950_11_11       False  5.123005  \n",
       "41593       .  c814333_11_11       False  5.123005  "
      ]
     },
     "execution_count": 93,
     "metadata": {},
     "output_type": "execute_result"
    }
   ],
   "source": [
    "assoc_qc.sort_values(by=\"P\").iloc[0:10]"
   ]
  },
  {
   "cell_type": "code",
   "execution_count": 71,
   "id": "fe249e05",
   "metadata": {},
   "outputs": [],
   "source": [
    "# frq[frq[\"name\"] == \"c527758_9_9\"]"
   ]
  },
  {
   "cell_type": "code",
   "execution_count": 72,
   "id": "e7f8cd75",
   "metadata": {},
   "outputs": [],
   "source": [
    "# case_frq[case_frq[\"name\"] == \"c527758_9_9\"]"
   ]
  },
  {
   "cell_type": "code",
   "execution_count": 33,
   "id": "8dff2a80",
   "metadata": {},
   "outputs": [],
   "source": [
    "# map_file = pd.read_csv(\"dash_output/pr/adv_default/cluster2_10.map\", sep=\" \", header=None)\n",
    "map_file = pd.read_csv(\"icurl/libd/aj/cluster1_1.map\", sep=\" \", header=None)\n",
    "# frq_file = pd.read_csv(\"comparison/bc/icurl/aj_17.gcount\", sep=\"\\t\")\n",
    "# case_frq_file = pd.read_csv(\"comparison/bc/icurl/aj_17_case.gcount\", sep=\"\\t\")\n",
    "# map_file[\"size\"] = map_file[3] - map_file[2]\n",
    "map_file[\"region\"] = \"chr\" + map_file[0].astype(str) + \":\" + map_file[2].astype(str) + \"-\" + map_file[3].astype(str)"
   ]
  },
  {
   "cell_type": "code",
   "execution_count": 34,
   "id": "3915c5ca",
   "metadata": {},
   "outputs": [
    {
     "data": {
      "text/html": [
       "<div>\n",
       "<style scoped>\n",
       "    .dataframe tbody tr th:only-of-type {\n",
       "        vertical-align: middle;\n",
       "    }\n",
       "\n",
       "    .dataframe tbody tr th {\n",
       "        vertical-align: top;\n",
       "    }\n",
       "\n",
       "    .dataframe thead th {\n",
       "        text-align: right;\n",
       "    }\n",
       "</style>\n",
       "<table border=\"1\" class=\"dataframe\">\n",
       "  <thead>\n",
       "    <tr style=\"text-align: right;\">\n",
       "      <th></th>\n",
       "      <th>0</th>\n",
       "      <th>1</th>\n",
       "      <th>2</th>\n",
       "      <th>3</th>\n",
       "      <th>region</th>\n",
       "    </tr>\n",
       "  </thead>\n",
       "  <tbody>\n",
       "    <tr>\n",
       "      <th>279632</th>\n",
       "      <td>1</td>\n",
       "      <td>c1347690_1</td>\n",
       "      <td>237250001</td>\n",
       "      <td>237500000</td>\n",
       "      <td>chr1:237250001-237500000</td>\n",
       "    </tr>\n",
       "  </tbody>\n",
       "</table>\n",
       "</div>"
      ],
      "text/plain": [
       "        0           1          2          3                    region\n",
       "279632  1  c1347690_1  237250001  237500000  chr1:237250001-237500000"
      ]
     },
     "execution_count": 34,
     "metadata": {},
     "output_type": "execute_result"
    }
   ],
   "source": [
    "map_file[map_file[1] == \"c1347690_1\" ]"
   ]
  },
  {
   "cell_type": "code",
   "execution_count": 35,
   "id": "e73cdd80",
   "metadata": {},
   "outputs": [],
   "source": [
    "# case_frq_file.sort_values(by=\"TWO_ALT_GENO_CTS\", ascending=False).head(n=10)"
   ]
  },
  {
   "cell_type": "code",
   "execution_count": 244,
   "id": "cd2c3b62",
   "metadata": {},
   "outputs": [],
   "source": [
    "snp = \"c44155_17\""
   ]
  },
  {
   "cell_type": "code",
   "execution_count": 139,
   "id": "bef1c886",
   "metadata": {},
   "outputs": [
    {
     "data": {
      "text/html": [
       "<div>\n",
       "<style scoped>\n",
       "    .dataframe tbody tr th:only-of-type {\n",
       "        vertical-align: middle;\n",
       "    }\n",
       "\n",
       "    .dataframe tbody tr th {\n",
       "        vertical-align: top;\n",
       "    }\n",
       "\n",
       "    .dataframe thead th {\n",
       "        text-align: right;\n",
       "    }\n",
       "</style>\n",
       "<table border=\"1\" class=\"dataframe\">\n",
       "  <thead>\n",
       "    <tr style=\"text-align: right;\">\n",
       "      <th></th>\n",
       "      <th>0</th>\n",
       "      <th>1</th>\n",
       "      <th>2</th>\n",
       "      <th>3</th>\n",
       "      <th>size</th>\n",
       "      <th>region</th>\n",
       "    </tr>\n",
       "  </thead>\n",
       "  <tbody>\n",
       "    <tr>\n",
       "      <th>9281</th>\n",
       "      <td>17</td>\n",
       "      <td>c44155_17</td>\n",
       "      <td>40500001</td>\n",
       "      <td>40750000</td>\n",
       "      <td>249999</td>\n",
       "      <td>chr17:40500001-40750000</td>\n",
       "    </tr>\n",
       "  </tbody>\n",
       "</table>\n",
       "</div>"
      ],
      "text/plain": [
       "       0          1         2         3    size                   region\n",
       "9281  17  c44155_17  40500001  40750000  249999  chr17:40500001-40750000"
      ]
     },
     "execution_count": 139,
     "metadata": {},
     "output_type": "execute_result"
    }
   ],
   "source": [
    "map_file[map_file[1] == snp]"
   ]
  },
  {
   "cell_type": "code",
   "execution_count": 140,
   "id": "a3ec0519",
   "metadata": {},
   "outputs": [
    {
     "data": {
      "text/html": [
       "<div>\n",
       "<style scoped>\n",
       "    .dataframe tbody tr th:only-of-type {\n",
       "        vertical-align: middle;\n",
       "    }\n",
       "\n",
       "    .dataframe tbody tr th {\n",
       "        vertical-align: top;\n",
       "    }\n",
       "\n",
       "    .dataframe thead th {\n",
       "        text-align: right;\n",
       "    }\n",
       "</style>\n",
       "<table border=\"1\" class=\"dataframe\">\n",
       "  <thead>\n",
       "    <tr style=\"text-align: right;\">\n",
       "      <th></th>\n",
       "      <th>#CHROM</th>\n",
       "      <th>ID</th>\n",
       "      <th>REF</th>\n",
       "      <th>ALT</th>\n",
       "      <th>PROVISIONAL_REF?</th>\n",
       "      <th>HOM_REF_CT</th>\n",
       "      <th>HET_REF_ALT_CTS</th>\n",
       "      <th>TWO_ALT_GENO_CTS</th>\n",
       "      <th>HAP_REF_CT</th>\n",
       "      <th>HAP_ALT_CTS</th>\n",
       "      <th>MISSING_CT</th>\n",
       "    </tr>\n",
       "  </thead>\n",
       "  <tbody>\n",
       "    <tr>\n",
       "      <th>48240</th>\n",
       "      <td>17</td>\n",
       "      <td>c44155_17</td>\n",
       "      <td>1</td>\n",
       "      <td>2</td>\n",
       "      <td>Y</td>\n",
       "      <td>3969</td>\n",
       "      <td>25</td>\n",
       "      <td>0</td>\n",
       "      <td>0</td>\n",
       "      <td>0</td>\n",
       "      <td>0</td>\n",
       "    </tr>\n",
       "  </tbody>\n",
       "</table>\n",
       "</div>"
      ],
      "text/plain": [
       "       #CHROM         ID  REF  ALT PROVISIONAL_REF?  HOM_REF_CT  \\\n",
       "48240      17  c44155_17    1    2                Y        3969   \n",
       "\n",
       "       HET_REF_ALT_CTS  TWO_ALT_GENO_CTS  HAP_REF_CT  HAP_ALT_CTS  MISSING_CT  \n",
       "48240               25                 0           0            0           0  "
      ]
     },
     "execution_count": 140,
     "metadata": {},
     "output_type": "execute_result"
    }
   ],
   "source": [
    "frq_file[frq_file[\"ID\"] == snp]"
   ]
  },
  {
   "cell_type": "code",
   "execution_count": 141,
   "id": "40e16da7",
   "metadata": {},
   "outputs": [
    {
     "data": {
      "text/html": [
       "<div>\n",
       "<style scoped>\n",
       "    .dataframe tbody tr th:only-of-type {\n",
       "        vertical-align: middle;\n",
       "    }\n",
       "\n",
       "    .dataframe tbody tr th {\n",
       "        vertical-align: top;\n",
       "    }\n",
       "\n",
       "    .dataframe thead th {\n",
       "        text-align: right;\n",
       "    }\n",
       "</style>\n",
       "<table border=\"1\" class=\"dataframe\">\n",
       "  <thead>\n",
       "    <tr style=\"text-align: right;\">\n",
       "      <th></th>\n",
       "      <th>#CHROM</th>\n",
       "      <th>ID</th>\n",
       "      <th>REF</th>\n",
       "      <th>ALT</th>\n",
       "      <th>PROVISIONAL_REF?</th>\n",
       "      <th>HOM_REF_CT</th>\n",
       "      <th>HET_REF_ALT_CTS</th>\n",
       "      <th>TWO_ALT_GENO_CTS</th>\n",
       "      <th>HAP_REF_CT</th>\n",
       "      <th>HAP_ALT_CTS</th>\n",
       "      <th>MISSING_CT</th>\n",
       "    </tr>\n",
       "  </thead>\n",
       "  <tbody>\n",
       "    <tr>\n",
       "      <th>48240</th>\n",
       "      <td>17</td>\n",
       "      <td>c44155_17</td>\n",
       "      <td>1</td>\n",
       "      <td>2</td>\n",
       "      <td>Y</td>\n",
       "      <td>413</td>\n",
       "      <td>11</td>\n",
       "      <td>0</td>\n",
       "      <td>0</td>\n",
       "      <td>0</td>\n",
       "      <td>0</td>\n",
       "    </tr>\n",
       "  </tbody>\n",
       "</table>\n",
       "</div>"
      ],
      "text/plain": [
       "       #CHROM         ID  REF  ALT PROVISIONAL_REF?  HOM_REF_CT  \\\n",
       "48240      17  c44155_17    1    2                Y         413   \n",
       "\n",
       "       HET_REF_ALT_CTS  TWO_ALT_GENO_CTS  HAP_REF_CT  HAP_ALT_CTS  MISSING_CT  \n",
       "48240               11                 0           0            0           0  "
      ]
     },
     "execution_count": 141,
     "metadata": {},
     "output_type": "execute_result"
    }
   ],
   "source": [
    "case_frq_file[case_frq_file[\"ID\"] == snp]"
   ]
  },
  {
   "cell_type": "code",
   "execution_count": 142,
   "id": "319599dc",
   "metadata": {},
   "outputs": [
    {
     "data": {
      "text/html": [
       "<div>\n",
       "<style scoped>\n",
       "    .dataframe tbody tr th:only-of-type {\n",
       "        vertical-align: middle;\n",
       "    }\n",
       "\n",
       "    .dataframe tbody tr th {\n",
       "        vertical-align: top;\n",
       "    }\n",
       "\n",
       "    .dataframe thead th {\n",
       "        text-align: right;\n",
       "    }\n",
       "</style>\n",
       "<table border=\"1\" class=\"dataframe\">\n",
       "  <thead>\n",
       "    <tr style=\"text-align: right;\">\n",
       "      <th></th>\n",
       "      <th>#CHROM</th>\n",
       "      <th>ID</th>\n",
       "      <th>REF</th>\n",
       "      <th>ALT</th>\n",
       "      <th>PROVISIONAL_REF?</th>\n",
       "      <th>HOM_REF_CT</th>\n",
       "      <th>HET_REF_ALT_CTS</th>\n",
       "      <th>TWO_ALT_GENO_CTS</th>\n",
       "      <th>HAP_REF_CT</th>\n",
       "      <th>HAP_ALT_CTS</th>\n",
       "      <th>MISSING_CT</th>\n",
       "    </tr>\n",
       "  </thead>\n",
       "  <tbody>\n",
       "    <tr>\n",
       "      <th>112367</th>\n",
       "      <td>17</td>\n",
       "      <td>c374400_17</td>\n",
       "      <td>1</td>\n",
       "      <td>2</td>\n",
       "      <td>Y</td>\n",
       "      <td>411</td>\n",
       "      <td>11</td>\n",
       "      <td>2</td>\n",
       "      <td>0</td>\n",
       "      <td>0</td>\n",
       "      <td>0</td>\n",
       "    </tr>\n",
       "    <tr>\n",
       "      <th>111900</th>\n",
       "      <td>17</td>\n",
       "      <td>c372142_17</td>\n",
       "      <td>1</td>\n",
       "      <td>2</td>\n",
       "      <td>Y</td>\n",
       "      <td>413</td>\n",
       "      <td>9</td>\n",
       "      <td>2</td>\n",
       "      <td>0</td>\n",
       "      <td>0</td>\n",
       "      <td>0</td>\n",
       "    </tr>\n",
       "    <tr>\n",
       "      <th>48208</th>\n",
       "      <td>17</td>\n",
       "      <td>c44104_17</td>\n",
       "      <td>1</td>\n",
       "      <td>2</td>\n",
       "      <td>Y</td>\n",
       "      <td>421</td>\n",
       "      <td>2</td>\n",
       "      <td>1</td>\n",
       "      <td>0</td>\n",
       "      <td>0</td>\n",
       "      <td>0</td>\n",
       "    </tr>\n",
       "    <tr>\n",
       "      <th>41420</th>\n",
       "      <td>17</td>\n",
       "      <td>c534509_17</td>\n",
       "      <td>1</td>\n",
       "      <td>2</td>\n",
       "      <td>Y</td>\n",
       "      <td>419</td>\n",
       "      <td>4</td>\n",
       "      <td>1</td>\n",
       "      <td>0</td>\n",
       "      <td>0</td>\n",
       "      <td>0</td>\n",
       "    </tr>\n",
       "    <tr>\n",
       "      <th>58207</th>\n",
       "      <td>17</td>\n",
       "      <td>c90794_17</td>\n",
       "      <td>1</td>\n",
       "      <td>2</td>\n",
       "      <td>Y</td>\n",
       "      <td>422</td>\n",
       "      <td>1</td>\n",
       "      <td>1</td>\n",
       "      <td>0</td>\n",
       "      <td>0</td>\n",
       "      <td>0</td>\n",
       "    </tr>\n",
       "    <tr>\n",
       "      <th>46934</th>\n",
       "      <td>17</td>\n",
       "      <td>c38085_17</td>\n",
       "      <td>1</td>\n",
       "      <td>2</td>\n",
       "      <td>Y</td>\n",
       "      <td>407</td>\n",
       "      <td>16</td>\n",
       "      <td>1</td>\n",
       "      <td>0</td>\n",
       "      <td>0</td>\n",
       "      <td>0</td>\n",
       "    </tr>\n",
       "    <tr>\n",
       "      <th>45545</th>\n",
       "      <td>17</td>\n",
       "      <td>c31019_17</td>\n",
       "      <td>1</td>\n",
       "      <td>2</td>\n",
       "      <td>Y</td>\n",
       "      <td>421</td>\n",
       "      <td>2</td>\n",
       "      <td>1</td>\n",
       "      <td>0</td>\n",
       "      <td>0</td>\n",
       "      <td>0</td>\n",
       "    </tr>\n",
       "    <tr>\n",
       "      <th>15147</th>\n",
       "      <td>17</td>\n",
       "      <td>c410001_17</td>\n",
       "      <td>1</td>\n",
       "      <td>2</td>\n",
       "      <td>Y</td>\n",
       "      <td>421</td>\n",
       "      <td>2</td>\n",
       "      <td>1</td>\n",
       "      <td>0</td>\n",
       "      <td>0</td>\n",
       "      <td>0</td>\n",
       "    </tr>\n",
       "    <tr>\n",
       "      <th>56138</th>\n",
       "      <td>17</td>\n",
       "      <td>c81565_17</td>\n",
       "      <td>1</td>\n",
       "      <td>2</td>\n",
       "      <td>Y</td>\n",
       "      <td>422</td>\n",
       "      <td>1</td>\n",
       "      <td>1</td>\n",
       "      <td>0</td>\n",
       "      <td>0</td>\n",
       "      <td>0</td>\n",
       "    </tr>\n",
       "    <tr>\n",
       "      <th>46940</th>\n",
       "      <td>17</td>\n",
       "      <td>c38092_17</td>\n",
       "      <td>1</td>\n",
       "      <td>2</td>\n",
       "      <td>Y</td>\n",
       "      <td>413</td>\n",
       "      <td>10</td>\n",
       "      <td>1</td>\n",
       "      <td>0</td>\n",
       "      <td>0</td>\n",
       "      <td>0</td>\n",
       "    </tr>\n",
       "  </tbody>\n",
       "</table>\n",
       "</div>"
      ],
      "text/plain": [
       "        #CHROM          ID  REF  ALT PROVISIONAL_REF?  HOM_REF_CT  \\\n",
       "112367      17  c374400_17    1    2                Y         411   \n",
       "111900      17  c372142_17    1    2                Y         413   \n",
       "48208       17   c44104_17    1    2                Y         421   \n",
       "41420       17  c534509_17    1    2                Y         419   \n",
       "58207       17   c90794_17    1    2                Y         422   \n",
       "46934       17   c38085_17    1    2                Y         407   \n",
       "45545       17   c31019_17    1    2                Y         421   \n",
       "15147       17  c410001_17    1    2                Y         421   \n",
       "56138       17   c81565_17    1    2                Y         422   \n",
       "46940       17   c38092_17    1    2                Y         413   \n",
       "\n",
       "        HET_REF_ALT_CTS  TWO_ALT_GENO_CTS  HAP_REF_CT  HAP_ALT_CTS  MISSING_CT  \n",
       "112367               11                 2           0            0           0  \n",
       "111900                9                 2           0            0           0  \n",
       "48208                 2                 1           0            0           0  \n",
       "41420                 4                 1           0            0           0  \n",
       "58207                 1                 1           0            0           0  \n",
       "46934                16                 1           0            0           0  \n",
       "45545                 2                 1           0            0           0  \n",
       "15147                 2                 1           0            0           0  \n",
       "56138                 1                 1           0            0           0  \n",
       "46940                10                 1           0            0           0  "
      ]
     },
     "execution_count": 142,
     "metadata": {},
     "output_type": "execute_result"
    }
   ],
   "source": [
    "case_frq_file.sort_values(by=\"TWO_ALT_GENO_CTS\", ascending=False).head(n=10)"
   ]
  },
  {
   "cell_type": "code",
   "execution_count": 68,
   "id": "7070b5bd",
   "metadata": {},
   "outputs": [],
   "source": [
    "# case_frq.sort_values(by=\"TWO_ALT_GENO_CTS\", ascending=False)"
   ]
  },
  {
   "cell_type": "code",
   "execution_count": 202,
   "id": "41244581",
   "metadata": {},
   "outputs": [],
   "source": [
    "# geno = pd.read_csv(\"comparison/height/dashcc/cluster2_1.raw\", sep=\" \")\n",
    "# pheno = pd.read_csv(\"output_regenie/cluster2/height_pheno.txt\", sep=\"\\t\")\n",
    "# geno_pheno = geno.merge(pheno, on=\"FID\") "
   ]
  },
  {
   "cell_type": "code",
   "execution_count": 137,
   "id": "1c68ba84",
   "metadata": {},
   "outputs": [],
   "source": [
    "# geno_pheno[f\"{snp}_2\"].value_counts()"
   ]
  },
  {
   "cell_type": "code",
   "execution_count": 138,
   "id": "59d82d31",
   "metadata": {},
   "outputs": [],
   "source": [
    "# sns.boxplot(x=f\"{snp}_2\", y=\"height\", data=geno_pheno, boxprops=dict(alpha=0.4),\n",
    "#             palette=sns.color_palette([\"#9B97B2\", \"#C7B8EA\", \"#D8A7CA\"]))\n",
    "# sns.stripplot(x=f\"{snp}_2\", y=\"height\", data=geno_pheno, alpha=1,\n",
    "#              palette=sns.color_palette([\"#9B97B2\", \"#C7B8EA\", \"#D8A7CA\"]))\n",
    "# plt.xlabel(\"genotype\")\n",
    "# plt.ylabel(\"height z-score\")\n",
    "# plt.show() "
   ]
  },
  {
   "cell_type": "code",
   "execution_count": 19,
   "id": "2a6eff94",
   "metadata": {},
   "outputs": [],
   "source": [
    "g = pd.read_csv(\"comparison/occ/dashcc/cluster2_9.raw\", sep=\" \")"
   ]
  },
  {
   "cell_type": "code",
   "execution_count": 21,
   "id": "bd99c2fa",
   "metadata": {},
   "outputs": [
    {
     "data": {
      "text/html": [
       "<div>\n",
       "<style scoped>\n",
       "    .dataframe tbody tr th:only-of-type {\n",
       "        vertical-align: middle;\n",
       "    }\n",
       "\n",
       "    .dataframe tbody tr th {\n",
       "        vertical-align: top;\n",
       "    }\n",
       "\n",
       "    .dataframe thead th {\n",
       "        text-align: right;\n",
       "    }\n",
       "</style>\n",
       "<table border=\"1\" class=\"dataframe\">\n",
       "  <thead>\n",
       "    <tr style=\"text-align: right;\">\n",
       "      <th></th>\n",
       "      <th>FID</th>\n",
       "      <th>IID</th>\n",
       "      <th>PAT</th>\n",
       "      <th>MAT</th>\n",
       "      <th>SEX</th>\n",
       "      <th>PHENOTYPE</th>\n",
       "      <th>cs78505_2</th>\n",
       "      <th>cs43692_2</th>\n",
       "    </tr>\n",
       "  </thead>\n",
       "  <tbody>\n",
       "    <tr>\n",
       "      <th>2677</th>\n",
       "      <td>199817</td>\n",
       "      <td>199817</td>\n",
       "      <td>0</td>\n",
       "      <td>0</td>\n",
       "      <td>0</td>\n",
       "      <td>1</td>\n",
       "      <td>2</td>\n",
       "      <td>2</td>\n",
       "    </tr>\n",
       "    <tr>\n",
       "      <th>2711</th>\n",
       "      <td>201431</td>\n",
       "      <td>201431</td>\n",
       "      <td>0</td>\n",
       "      <td>0</td>\n",
       "      <td>0</td>\n",
       "      <td>2</td>\n",
       "      <td>2</td>\n",
       "      <td>2</td>\n",
       "    </tr>\n",
       "    <tr>\n",
       "      <th>4165</th>\n",
       "      <td>25408</td>\n",
       "      <td>25408</td>\n",
       "      <td>0</td>\n",
       "      <td>0</td>\n",
       "      <td>0</td>\n",
       "      <td>1</td>\n",
       "      <td>2</td>\n",
       "      <td>2</td>\n",
       "    </tr>\n",
       "  </tbody>\n",
       "</table>\n",
       "</div>"
      ],
      "text/plain": [
       "         FID     IID  PAT  MAT  SEX  PHENOTYPE  cs78505_2  cs43692_2\n",
       "2677  199817  199817    0    0    0          1          2          2\n",
       "2711  201431  201431    0    0    0          2          2          2\n",
       "4165   25408   25408    0    0    0          1          2          2"
      ]
     },
     "execution_count": 21,
     "metadata": {},
     "output_type": "execute_result"
    }
   ],
   "source": [
    "g[g[\"cs78505_2\"] == 2]"
   ]
  },
  {
   "cell_type": "code",
   "execution_count": null,
   "id": "75025d50",
   "metadata": {},
   "outputs": [],
   "source": []
  }
 ],
 "metadata": {
  "kernelspec": {
   "display_name": "Python 3 (ipykernel)",
   "language": "python",
   "name": "python3"
  },
  "language_info": {
   "codemirror_mode": {
    "name": "ipython",
    "version": 3
   },
   "file_extension": ".py",
   "mimetype": "text/x-python",
   "name": "python",
   "nbconvert_exporter": "python",
   "pygments_lexer": "ipython3",
   "version": "3.11.5"
  }
 },
 "nbformat": 4,
 "nbformat_minor": 5
}
